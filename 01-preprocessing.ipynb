{
 "cells": [
  {
   "cell_type": "markdown",
   "metadata": {
    "_uuid": "47748c0985b935b4e46d2a6c83af0eecf1516f65",
    "id": "I1m8AstWh2em"
   },
   "source": [
    "# Project - Google Analytics Customer Revenue Preprocessing"
   ]
  },
  {
   "cell_type": "markdown",
   "metadata": {
    "_uuid": "7fbc08fd2ec0ec81825c6d794576fbb7a06ff9c1",
    "id": "HQme9By8h2es"
   },
   "source": [
    "## Presenting the initial data: \n",
    "\n",
    "<b>Data Fields: </b>\n",
    "\n",
    "<b>fullVisitorIdv</b> - A unique identifier for each user of the Google Merchandise Store. <br>\n",
    "<b>channelGrouping</b> - The channel via which the user came to the Store.<br>\n",
    "<b>date</b> - The date on which the user visited the Store.<br>\n",
    "<b>device </b>- The specifications for the device used to access the Store.<br>\n",
    "<b>geoNetwork</b> - This section contains information about the geography of the user.<br>\n",
    "<b>sessionId</b> - A unique identifier for this visit to the store.<br>\n",
    "<b>socialEngagementType</b> - Engagement type, either \"Socially Engaged\" or \"Not Socially Engaged\".<br>\n",
    "<b>totals</b> - This section contains aggregate values across the session.<br>\n",
    "<b>trafficSource</b> - This section contains information about the Traffic Source from which the session originated.<br>\n",
    "<b>visitId</b> - An identifier for this session. This is part of the value usually stored as the _utmb cookie. This is only unique to the user. For a completely unique ID, you should use a combination of fullVisitorId and visitId.<br>\n",
    "<b>visitNumber</b> - The session number for this user. If this is the first session, then this is set to 1.<br>\n",
    "<b>visitStartTime</b> - The timestamp (expressed as POSIX time).<br>"
   ]
  },
  {
   "cell_type": "markdown",
   "metadata": {
    "_uuid": "d5db3cb7d849d9fad6163f3f8b1e671cd6f17b93",
    "id": "_3r7EPO4h2es"
   },
   "source": [
    "# Objectives: \n",
    "\n",
    "The main objectives of this project are :\n",
    "\n",
    "* Load the data so everything is in tabular format (some columns contain JSON so it you will need to find ways to separate those into independent columns)\n",
    "* Identify the variables that need special processing (removing or infering missing values, removing columns that don't contain useful information)\n",
    "* Run visualizations to better understand the data"
   ]
  },
  {
   "cell_type": "markdown",
   "metadata": {
    "_uuid": "6ea6f1fa6570a74176e88faf94c3da6782824043",
    "id": "_VBUnPzOh2et"
   },
   "source": [
    "## Importing necessary libraries"
   ]
  },
  {
   "cell_type": "code",
   "execution_count": 1,
   "metadata": {
    "colab": {
     "base_uri": "https://localhost:8080/"
    },
    "executionInfo": {
     "elapsed": 13802,
     "status": "ok",
     "timestamp": 1611679102335,
     "user": {
      "displayName": "Thomas Dulin",
      "photoUrl": "",
      "userId": "14648366463767860081"
     },
     "user_tz": -60
    },
    "id": "Vy_k7xnPh2eu",
    "outputId": "b018a3dd-d2db-41ec-d0cf-96018656f50f"
   },
   "outputs": [
    {
     "name": "stdout",
     "output_type": "stream",
     "text": [
      "Requirement already satisfied: s3fs in /Users/katie/opt/anaconda3/lib/python3.7/site-packages (0.5.2)\n",
      "Requirement already satisfied: fsspec>=0.8.0 in /Users/katie/opt/anaconda3/lib/python3.7/site-packages (from s3fs) (0.8.5)\n",
      "Requirement already satisfied: aiobotocore>=1.0.1 in /Users/katie/opt/anaconda3/lib/python3.7/site-packages (from s3fs) (1.2.0)\n",
      "Requirement already satisfied: aiohttp>=3.3.1 in /Users/katie/opt/anaconda3/lib/python3.7/site-packages (from aiobotocore>=1.0.1->s3fs) (3.7.3)\n",
      "Requirement already satisfied: botocore<1.19.53,>=1.19.52 in /Users/katie/opt/anaconda3/lib/python3.7/site-packages (from aiobotocore>=1.0.1->s3fs) (1.19.52)\n",
      "Requirement already satisfied: wrapt>=1.10.10 in /Users/katie/opt/anaconda3/lib/python3.7/site-packages (from aiobotocore>=1.0.1->s3fs) (1.12.1)\n",
      "Requirement already satisfied: aioitertools>=0.5.1 in /Users/katie/opt/anaconda3/lib/python3.7/site-packages (from aiobotocore>=1.0.1->s3fs) (0.7.1)\n",
      "Requirement already satisfied: attrs>=17.3.0 in /Users/katie/opt/anaconda3/lib/python3.7/site-packages (from aiohttp>=3.3.1->aiobotocore>=1.0.1->s3fs) (20.3.0)\n",
      "Requirement already satisfied: chardet<4.0,>=2.0 in /Users/katie/opt/anaconda3/lib/python3.7/site-packages (from aiohttp>=3.3.1->aiobotocore>=1.0.1->s3fs) (3.0.4)\n",
      "Requirement already satisfied: typing-extensions>=3.6.5 in /Users/katie/opt/anaconda3/lib/python3.7/site-packages (from aiohttp>=3.3.1->aiobotocore>=1.0.1->s3fs) (3.7.4.3)\n",
      "Requirement already satisfied: yarl<2.0,>=1.0 in /Users/katie/opt/anaconda3/lib/python3.7/site-packages (from aiohttp>=3.3.1->aiobotocore>=1.0.1->s3fs) (1.6.3)\n",
      "Requirement already satisfied: async-timeout<4.0,>=3.0 in /Users/katie/opt/anaconda3/lib/python3.7/site-packages (from aiohttp>=3.3.1->aiobotocore>=1.0.1->s3fs) (3.0.1)\n",
      "Requirement already satisfied: multidict<7.0,>=4.5 in /Users/katie/opt/anaconda3/lib/python3.7/site-packages (from aiohttp>=3.3.1->aiobotocore>=1.0.1->s3fs) (5.1.0)\n",
      "Requirement already satisfied: jmespath<1.0.0,>=0.7.1 in /Users/katie/opt/anaconda3/lib/python3.7/site-packages (from botocore<1.19.53,>=1.19.52->aiobotocore>=1.0.1->s3fs) (0.10.0)\n",
      "Requirement already satisfied: python-dateutil<3.0.0,>=2.1 in /Users/katie/opt/anaconda3/lib/python3.7/site-packages (from botocore<1.19.53,>=1.19.52->aiobotocore>=1.0.1->s3fs) (2.8.1)\n",
      "Requirement already satisfied: urllib3<1.27,>=1.25.4 in /Users/katie/opt/anaconda3/lib/python3.7/site-packages (from botocore<1.19.53,>=1.19.52->aiobotocore>=1.0.1->s3fs) (1.26.2)\n",
      "Requirement already satisfied: six>=1.5 in /Users/katie/opt/anaconda3/lib/python3.7/site-packages (from python-dateutil<3.0.0,>=2.1->botocore<1.19.53,>=1.19.52->aiobotocore>=1.0.1->s3fs) (1.15.0)\n",
      "Requirement already satisfied: idna>=2.0 in /Users/katie/opt/anaconda3/lib/python3.7/site-packages (from yarl<2.0,>=1.0->aiohttp>=3.3.1->aiobotocore>=1.0.1->s3fs) (2.10)\n"
     ]
    }
   ],
   "source": [
    "!pip install s3fs"
   ]
  },
  {
   "cell_type": "code",
   "execution_count": null,
   "metadata": {
    "id": "w3Hf9t41h2ew"
   },
   "outputs": [],
   "source": [
    "#import libraries\n",
    "import os\n",
    "import random\n",
    "import pandas as pd\n",
    "import numpy as np\n",
    "import matplotlib.pyplot as plt\n",
    "import seaborn as sns\n",
    "import json\n",
    "from pandas.io.json import json_normalize\n",
    "from datetime import datetime\n",
    "from sklearn import preprocessing\n",
    "\n",
    "plt.style.use('fivethirtyeight')"
   ]
  },
  {
   "cell_type": "code",
   "execution_count": 2,
   "metadata": {
    "_uuid": "17c123bd94775fa116a13113e729dc5113f01aad",
    "id": "gR0fC4MBh2ex"
   },
   "outputs": [],
   "source": [
    "#process the columns in json formaat\n",
    "columns = ['device', 'geoNetwork', 'totals', 'trafficSource']\n",
    "\n",
    "def json_read(df):\n",
    "    data_frame = df\n",
    "    p = 0.07\n",
    "    df = pd.read_csv(data_frame, \n",
    "                     converters={column: json.loads for column in columns},\n",
    "                     dtype={'fullVisitorId': 'str'},\n",
    "                     skiprows=lambda i: i>0 and random.random() > p)\n",
    "    \n",
    "    for column in columns: \n",
    "        column_as_df = json_normalize(df[column]) \n",
    "        column_as_df.columns = [f\"{column}.{subcolumn}\" for subcolumn in column_as_df.columns] \n",
    "        df = df.drop(column, axis=1).merge(column_as_df, right_index=True, left_index=True)\n",
    "           \n",
    "    print(f\"Loaded {os.path.basename(data_frame)}. Shape: {df.shape}\")\n",
    "    return df"
   ]
  },
  {
   "cell_type": "code",
   "execution_count": null,
   "metadata": {
    "_uuid": "5ea0bc7871409e13de182189ebc0f30ddf7f3573",
    "colab": {
     "base_uri": "https://localhost:8080/"
    },
    "executionInfo": {
     "elapsed": 54731,
     "status": "ok",
     "timestamp": 1611679143276,
     "user": {
      "displayName": "Thomas Dulin",
      "photoUrl": "",
      "userId": "14648366463767860081"
     },
     "user_tz": -60
    },
    "id": "9__J9xiPh2ez",
    "outputId": "64388161-1684-4162-bc80-1abc07e5d281",
    "tags": []
   },
   "outputs": [],
   "source": [
    "#import data\n",
    "df = json_read(\"s3://full-stack-bigdata-datasets/Machine Learning Supervisé/projects/preprocessing_linear_models/Google_dataset.csv\") "
   ]
  },
  {
   "cell_type": "code",
   "execution_count": null,
   "metadata": {},
   "outputs": [],
   "source": [
    "pd.set_option('display.max_columns', 500)"
   ]
  },
  {
   "cell_type": "code",
   "execution_count": null,
   "metadata": {
    "_uuid": "fb4b16cc25fe51887b9b4ebb3a161a0a6d683866",
    "colab": {
     "base_uri": "https://localhost:8080/",
     "height": 313
    },
    "executionInfo": {
     "elapsed": 54726,
     "status": "ok",
     "timestamp": 1611679143279,
     "user": {
      "displayName": "Thomas Dulin",
      "photoUrl": "",
      "userId": "14648366463767860081"
     },
     "user_tz": -60
    },
    "id": "3n6U3854h2ez",
    "outputId": "ed325c00-dffd-4eea-9b13-c48224fa353b"
   },
   "outputs": [],
   "source": [
    "df.head()"
   ]
  },
  {
   "cell_type": "code",
   "execution_count": null,
   "metadata": {
    "_uuid": "fec2d2803b7bd55c5867242cb88af572b600290d",
    "id": "lzjVAAzWh2e1"
   },
   "outputs": [],
   "source": [
    "#check for missing values\n",
    "def missing_values(data):\n",
    "    total = data.isnull().sum().sort_values(ascending = False) # getting the sum of null values and ordering\n",
    "    percent = (data.isnull().sum() / data.isnull().count() * 100 ).sort_values(ascending = False) #getting the percent and order of null\n",
    "    df = pd.concat([total, percent], axis=1, keys=['Total', 'Percent']) # Concatenating the total and percent\n",
    "    print(\"Total columns at least one missing values: \")\n",
    "    print (df[~(df['Total'] == 0)]) # Returning values of nulls different of 0\n",
    "    \n",
    "    return "
   ]
  },
  {
   "cell_type": "code",
   "execution_count": null,
   "metadata": {
    "_uuid": "8e82a6e0f0f5e949c8142c7f7ecdc464441a0256",
    "colab": {
     "base_uri": "https://localhost:8080/"
    },
    "executionInfo": {
     "elapsed": 55824,
     "status": "ok",
     "timestamp": 1611679144382,
     "user": {
      "displayName": "Thomas Dulin",
      "photoUrl": "",
      "userId": "14648366463767860081"
     },
     "user_tz": -60
    },
    "id": "-5Rch_rIh2e1",
    "outputId": "ebe455d9-0f61-4133-f563-9b9f2ae0fe2c",
    "tags": []
   },
   "outputs": [],
   "source": [
    "missing_values(df) "
   ]
  },
  {
   "cell_type": "code",
   "execution_count": null,
   "metadata": {
    "_kg_hide-output": true,
    "_uuid": "fbe23d09172475042da33a2185600b7ffc5a7653",
    "colab": {
     "base_uri": "https://localhost:8080/"
    },
    "executionInfo": {
     "elapsed": 56154,
     "status": "ok",
     "timestamp": 1611679144716,
     "user": {
      "displayName": "Thomas Dulin",
      "photoUrl": "",
      "userId": "14648366463767860081"
     },
     "user_tz": -60
    },
    "id": "BCpufPMyh2e3",
    "outputId": "f145b106-1238-4312-a8de-f7054a4bb3eb",
    "tags": []
   },
   "outputs": [],
   "source": [
    "#check datatypes\n",
    "print(df.info())\n",
    "print(\"\\n \\n The distribution of columns across types is the following : \\n {}\".format(df.dtypes.value_counts()))"
   ]
  },
  {
   "cell_type": "code",
   "execution_count": null,
   "metadata": {
    "_uuid": "4284e6cb9d9930d26460c4653c5935a2deeed422",
    "id": "z-NLfoKOh2e3"
   },
   "outputs": [],
   "source": [
    "#deal with the date\n",
    "from datetime import datetime\n",
    "\n",
    "def date_process(df):\n",
    "    df[\"date\"] = pd.to_datetime(df[\"date\"], format=\"%Y%m%d\")\n",
    "    df[\"_weekday\"] = df['date'].dt.weekday\n",
    "    df[\"_day\"] = df['date'].dt.day\n",
    "    df[\"_month\"] = df['date'].dt.month\n",
    "    df[\"_year\"] = df['date'].dt.year\n",
    "    df['_visitHour'] = (df['visitStartTime'].apply(lambda x: str(datetime.fromtimestamp(x).hour))).astype(int)\n",
    "    \n",
    "    return df"
   ]
  },
  {
   "cell_type": "code",
   "execution_count": null,
   "metadata": {
    "_uuid": "7619fa329dcb6c0b5bea70b032145fe59a6ec70d",
    "colab": {
     "base_uri": "https://localhost:8080/",
     "height": 167
    },
    "executionInfo": {
     "elapsed": 56147,
     "status": "ok",
     "timestamp": 1611679144718,
     "user": {
      "displayName": "Thomas Dulin",
      "photoUrl": "",
      "userId": "14648366463767860081"
     },
     "user_tz": -60
    },
    "id": "CmL-VrmYh2e3",
    "outputId": "8aec161a-83dd-4041-86ea-45f5246e5131"
   },
   "outputs": [],
   "source": [
    "df_train = date_process(df)\n",
    "df_train.head(n=2)"
   ]
  },
  {
   "cell_type": "code",
   "execution_count": null,
   "metadata": {
    "_uuid": "42321bff6c5bdf02b01bdc6f4fec332e0696cc13",
    "colab": {
     "base_uri": "https://localhost:8080/"
    },
    "executionInfo": {
     "elapsed": 56891,
     "status": "ok",
     "timestamp": 1611679145465,
     "user": {
      "displayName": "Thomas Dulin",
      "photoUrl": "",
      "userId": "14648366463767860081"
     },
     "user_tz": -60
    },
    "id": "_BtBTKC5h2e4",
    "outputId": "03ae2c21-2d34-4f20-f445-1f3965a4d3cb",
    "tags": []
   },
   "outputs": [],
   "source": [
    "#check for columns of constants\n",
    "discovering_consts = [col for col in df_train.columns if df_train[col].nunique() == 1]\n",
    "df_train = df_train.drop(discovering_consts, axis = 1)\n",
    "\n",
    "print(\"Columns with just one value: \", len(discovering_consts), \"columns \\n\")\n",
    "print(\"Name of constant columns: \\n\")\n",
    "for col in discovering_consts :\n",
    "    print(col)"
   ]
  },
  {
   "cell_type": "code",
   "execution_count": null,
   "metadata": {
    "_uuid": "356bfb3c7fae18c60e524d069aea3fd7ff3a974d",
    "id": "udSvZvi2h2e5"
   },
   "outputs": [],
   "source": [
    "#check number of unique values per column\n",
    "def knowingData(df, limit=3):\n",
    "    for column in df.columns:\n",
    "        print(\"_________________________________\")\n",
    "        print(\"Name of column \", column, ': \\n', \"Uniques: \", df[column].unique()[:limit], \"\\n\",\n",
    "              \" | ## Total nulls: \", (round(df[column].isnull().sum() / len(df[column]) * 100,2)),\n",
    "              \" | ## Total unique values: \", df_train.nunique()[column])\n",
    "        \n",
    "    )\n",
    "        print(\"_________________________________\")"
   ]
  },
  {
   "cell_type": "code",
   "execution_count": null,
   "metadata": {
    "_kg_hide-output": true,
    "_uuid": "070121f44dbf08c698aae911696f612c94aa07f8",
    "colab": {
     "base_uri": "https://localhost:8080/"
    },
    "executionInfo": {
     "elapsed": 67914,
     "status": "ok",
     "timestamp": 1611679156494,
     "user": {
      "displayName": "Thomas Dulin",
      "photoUrl": "",
      "userId": "14648366463767860081"
     },
     "user_tz": -60
    },
    "id": "6FFew-mPh2e5",
    "outputId": "b9948de2-68a8-4629-c203-ca505f2f2c01",
    "tags": []
   },
   "outputs": [],
   "source": [
    "knowingData(df_train)"
   ]
  },
  {
   "cell_type": "code",
   "execution_count": null,
   "metadata": {
    "_uuid": "b8561c320415f62f4cd245091a47de9c62dd7659",
    "id": "GSuMnOCch2e5"
   },
   "outputs": [],
   "source": [
    "#drop unnecessary columns\n",
    "to_drop = ['trafficSource.adwordsClickInfo.gclId', 'trafficSource.campaign',\n",
    "           'trafficSource.adwordsClickInfo.page', 'trafficSource.referralPath', 'trafficSource.adwordsClickInfo.slot',\n",
    "           'trafficSource.adContent', 'trafficSource.keyword']"
   ]
  },
  {
   "cell_type": "code",
   "execution_count": null,
   "metadata": {
    "_uuid": "1a4b221505ff10c5e4c51e842365b6fe70c87d59",
    "id": "2UR6DVNsh2e5"
   },
   "outputs": [],
   "source": [
    "df_train.drop(to_drop, axis=1, inplace=True)"
   ]
  },
  {
   "cell_type": "code",
   "execution_count": null,
   "metadata": {
    "_uuid": "5ec423223d17d45ab7c5cf8e2678a852abc1c863",
    "colab": {
     "base_uri": "https://localhost:8080/"
    },
    "executionInfo": {
     "elapsed": 67911,
     "status": "ok",
     "timestamp": 1611679156498,
     "user": {
      "displayName": "Thomas Dulin",
      "photoUrl": "",
      "userId": "14648366463767860081"
     },
     "user_tz": -60
    },
    "id": "MYBpwvAEh2e5",
    "outputId": "f0712be0-2f1c-46b2-9b13-1c341996f082",
    "tags": []
   },
   "outputs": [
    {
     "name": "stdout",
     "output_type": "stream",
     "text": [
      "Total features dropped:  7\n",
      "Shape after dropping:  (63583, 28)\n"
     ]
    }
   ],
   "source": [
    "print(\"Total features dropped: \", len(to_drop))\n",
    "print(\"Shape after dropping: \", df_train.shape)"
   ]
  },
  {
   "cell_type": "code",
   "execution_count": null,
   "metadata": {
    "id": "i4qv4nu2h2e6"
   },
   "outputs": [],
   "source": [
    "#handle missing values\n",
    "def NumericalColumns(df):\n",
    "    df['totals.pageviews'].fillna(1, inplace=True)\n",
    "    df[\"totals.transactionRevenue\"] = df[\"totals.transactionRevenue\"].fillna(0.0).astype(float)\n",
    "    df['totals.pageviews'] = df['totals.pageviews'].astype(int)\n",
    "    df[\"totals.hits\"] = df[\"totals.hits\"].astype(float)\n",
    "\n",
    "    return df"
   ]
  },
  {
   "cell_type": "code",
   "execution_count": null,
   "metadata": {
    "id": "qYnff9Glh2e7"
   },
   "outputs": [],
   "source": [
    "#normalize data\n",
    "def Normalizing(df):\n",
    "    # Use MinMaxScaler to normalize the column\n",
    "    df[\"totals.hits\"] =  (df['totals.hits'] - min(df['totals.hits'])) / (max(df['totals.hits'])  - min(df['totals.hits']))\n",
    "    # normalizing the transaction Revenue\n",
    "    df['totals.transactionRevenue'] = df_train['totals.transactionRevenue'].apply(lambda x: np.log10(x+1))\n",
    "    # return the modified df\n",
    "    return df "
   ]
  },
  {
   "cell_type": "code",
   "execution_count": null,
   "metadata": {
    "_uuid": "ccf9c8f37da21f67b244b80506654ecd51d58fed",
    "id": "WGeoCKkAh2e7"
   },
   "outputs": [],
   "source": [
    "df_train = NumericalColumns(df_train)\n",
    "df_train = Normalizing(df_train)"
   ]
  },
  {
   "cell_type": "code",
   "execution_count": null,
   "metadata": {
    "_kg_hide-input": true,
    "_kg_hide-output": true,
    "_uuid": "7a67f1a41573aada51a45e0bef3055210c96ff9e",
    "id": "lY3pS4FJh2e7"
   },
   "outputs": [],
   "source": [
    "dummy_feaures =['channelGrouping', 'device.browser', 'device.deviceCategory', 'geoNetwork.city', 'device.operatingSystem', \n",
    "                'trafficSource.medium', 'trafficSource.source',\n",
    "                'geoNetwork.continent', 'geoNetwork.country', 'geoNetwork.metro', 'geoNetwork.networkDomain', 'geoNetwork.region', \n",
    "                'geoNetwork.subContinent']\n",
    "\n",
    "\n",
    "numericals = ['totals.visits', '_visitHour', '_day', '_month', '_weekday']"
   ]
  },
  {
   "cell_type": "code",
   "execution_count": null,
   "metadata": {
    "_uuid": "8fddcf823310f3ac3b47a280817ac10361be34f9",
    "colab": {
     "base_uri": "https://localhost:8080/",
     "height": 512
    },
    "executionInfo": {
     "elapsed": 68947,
     "status": "ok",
     "timestamp": 1611679157547,
     "user": {
      "displayName": "Thomas Dulin",
      "photoUrl": "",
      "userId": "14648366463767860081"
     },
     "user_tz": -60
    },
    "id": "tpPLP96ih2e7",
    "outputId": "0de1b3dd-a778-48d9-b32b-f2603e3768e3",
    "tags": []
   },
   "outputs": [],
   "source": [
    "#check stats and visualize revenue\n",
    "print(\"Transaction Revenue Min Value: \", \n",
    "      df_train[df_train['totals.transactionRevenue'] > 0][\"totals.transactionRevenue\"].min())\n",
    "print(\"Transaction Revenue Mean Value: \", \n",
    "      df_train[df_train['totals.transactionRevenue'] > 0][\"totals.transactionRevenue\"].mean())\n",
    "print(\"Transaction Revenue Median Value: \", \n",
    "      df_train[df_train['totals.transactionRevenue'] > 0][\"totals.transactionRevenue\"].median())\n",
    "print(\"Transaction Revenue Max Value: \", \n",
    "      df_train[df_train['totals.transactionRevenue'] > 0][\"totals.transactionRevenue\"].max())\n",
    "\n",
    "plt.figure(figsize=(14,5))\n",
    "\n",
    "plt.subplot(1,1,1)\n",
    "\n",
    "ax = sns.distplot(np.log(df_train[df_train['totals.transactionRevenue'] > 0][\"totals.transactionRevenue\"]), bins=40, kde=True)\n",
    "ax.set_xlabel('Transaction RevenueLog', fontsize=15)\n",
    "ax.set_ylabel('Distribution', fontsize=15)\n",
    "ax.set_title(\"Distribution of Revenue Log\", fontsize=20)\n",
    "\n",
    "plt.show()"
   ]
  },
  {
   "cell_type": "code",
   "execution_count": null,
   "metadata": {
    "_uuid": "fd2613fb0a19aa87a0ec016378a9bca180fb3887",
    "colab": {
     "base_uri": "https://localhost:8080/",
     "height": 746
    },
    "executionInfo": {
     "elapsed": 1173,
     "status": "ok",
     "timestamp": 1611679316516,
     "user": {
      "displayName": "Thomas Dulin",
      "photoUrl": "",
      "userId": "14648366463767860081"
     },
     "user_tz": -60
    },
    "id": "5Um08GiXh2e9",
    "outputId": "a9c8230f-a09d-4394-9d4b-c6d7b9dc90bd",
    "tags": []
   },
   "outputs": [],
   "source": [
    "print(\"Browser usage: \")\n",
    "print(df_train['device.browser'].value_counts()[:7] )\n",
    "\n",
    "fig, ax = plt.subplots(1,1,figsize=(14,6))\n",
    "\n",
    "sns.countplot(df_train[df_train['device.browser']\\\n",
    "                       .isin(df_train['device.browser']\\\n",
    "                             .value_counts()[:10].index.values)]['device.browser'], palette=\"hls\")\n",
    "total = len(df_train['device.browser'])\n",
    "for p in ax.patches:\n",
    "        percentage = '{:.1f}%'.format(100 * p.get_height()/total)\n",
    "        x = p.get_x() + 0.1\n",
    "        y = p.get_y() + p.get_height() + 0.5\n",
    "        ax.annotate(percentage, (x, y))\n",
    "plt.title(\"TOP 10 Most Frequent Browsers\", fontsize=20)\n",
    "plt.xlabel(\"Browser Names\", fontsize=16)\n",
    "plt.ylabel(\"Count\", fontsize=16)\n",
    "plt.xticks(rotation=45)\n",
    "\n",
    "plt.show()"
   ]
  },
  {
   "cell_type": "code",
   "execution_count": null,
   "metadata": {
    "_uuid": "c3ab87bfb285973429b671b966a60dc2c28881d6",
    "colab": {
     "base_uri": "https://localhost:8080/",
     "height": 523
    },
    "executionInfo": {
     "elapsed": 70422,
     "status": "ok",
     "timestamp": 1611679159031,
     "user": {
      "displayName": "Thomas Dulin",
      "photoUrl": "",
      "userId": "14648366463767860081"
     },
     "user_tz": -60
    },
    "id": "M7Wv74fgh2e-",
    "outputId": "fdaaefc7-b9ef-4956-ba26-b456b23f61cb"
   },
   "outputs": [],
   "source": [
    "#plot revenue against browser\n",
    "plt.figure(figsize=(13,6))\n",
    "\n",
    "g1 = sns.boxenplot(x='device.browser', y='totals.transactionRevenue', \n",
    "                   data=df_train[(df_train['device.browser'].isin((df_train['device.browser'].value_counts()[:10].index.values))) &\n",
    "                                  df_train['totals.transactionRevenue'] > 0])\n",
    "g1.set_title('Browsers Name by Transactions Revenue', fontsize=20)\n",
    "g1.set_xticklabels(g1.get_xticklabels(),rotation=45)\n",
    "g1.set_xlabel('Device Names', fontsize=18)\n",
    "g1.set_ylabel('Trans Revenue(log) Dist', fontsize=18)\n",
    "\n",
    "plt.show()"
   ]
  },
  {
   "cell_type": "code",
   "execution_count": null,
   "metadata": {
    "_uuid": "1019d4bf94a102d9ca256cd222fbc716afc94a58",
    "colab": {
     "base_uri": "https://localhost:8080/",
     "height": 689
    },
    "executionInfo": {
     "elapsed": 70417,
     "status": "ok",
     "timestamp": 1611679159032,
     "user": {
      "displayName": "Thomas Dulin",
      "photoUrl": "",
      "userId": "14648366463767860081"
     },
     "user_tz": -60
    },
    "id": "Q_HK7XW2h2e-",
    "outputId": "c3971e48-90da-40eb-aebc-b7e159ede4bd",
    "tags": []
   },
   "outputs": [],
   "source": [
    "#visualize acquisition channel\n",
    "print(\"Percentage of Channel Grouping used: \")\n",
    "print((df_train['channelGrouping'].value_counts()[:5]))\n",
    "\n",
    "fig, ax = plt.subplots(1,1,figsize=(14,7))\n",
    "\n",
    "sns.countplot(df_train[\"channelGrouping\"], palette=\"hls\")\n",
    "\n",
    "total = len(df_train['channelGrouping'])\n",
    "for p in ax.patches:\n",
    "        percentage = '{:.1f}%'.format(100 * p.get_height()/total)\n",
    "        x = p.get_x() + 0.1\n",
    "        y = p.get_y() + p.get_height() + 0.5\n",
    "        ax.annotate(percentage, (x, y))\n",
    "\n",
    "plt.title(\"Channel Grouping Count\", fontsize=20)\n",
    "plt.xlabel(\"Channel Grouping Name\", fontsize=18)\n",
    "plt.ylabel(\"Count\", fontsize=18)\n",
    "\n",
    "plt.show()"
   ]
  },
  {
   "cell_type": "code",
   "execution_count": null,
   "metadata": {
    "_uuid": "3f461736ae52ed6a36c892e77a265399ad3b0484",
    "colab": {
     "base_uri": "https://localhost:8080/",
     "height": 500
    },
    "executionInfo": {
     "elapsed": 71077,
     "status": "ok",
     "timestamp": 1611679159697,
     "user": {
      "displayName": "Thomas Dulin",
      "photoUrl": "",
      "userId": "14648366463767860081"
     },
     "user_tz": -60
    },
    "id": "GwLzN45mh2e_",
    "outputId": "5d7d88d7-3660-4df6-b12a-96fe75a5ddcc"
   },
   "outputs": [],
   "source": [
    "#channel grouping by browsers\n",
    "crosstab_eda = pd.crosstab(index=df_train['channelGrouping'], normalize=True,\n",
    "                           columns=df_train[df_train['device.browser'].isin(df_train['device.browser']\\\n",
    "                                                                            .value_counts()[:5].index.values)]['device.browser'])\n",
    "crosstab_eda.plot(kind=\"bar\",\n",
    "                 figsize=(14,7),\n",
    "                 stacked=True)\n",
    "plt.title(\"Channel Grouping % for which Browser\", fontsize=20)\n",
    "plt.xlabel(\"The Channel Grouping Name\", fontsize=18)\n",
    "plt.ylabel(\"Count\", fontsize=18)\n",
    "plt.xticks(rotation=0)\n",
    "plt.show()"
   ]
  },
  {
   "cell_type": "code",
   "execution_count": null,
   "metadata": {
    "_uuid": "74d59c258d5102197b8c4e0ec15097bfed8aaafd",
    "colab": {
     "base_uri": "https://localhost:8080/",
     "height": 1000
    },
    "executionInfo": {
     "elapsed": 71073,
     "status": "ok",
     "timestamp": 1611679159699,
     "user": {
      "displayName": "Thomas Dulin",
      "photoUrl": "",
      "userId": "14648366463767860081"
     },
     "user_tz": -60
    },
    "id": "zi4KK3gzh2e_",
    "outputId": "2494f77d-c6e8-424c-f299-c56e8f133aa3",
    "tags": []
   },
   "outputs": [],
   "source": [
    "#operating system\n",
    "print(\"Percentage of Operational Systems: \")\n",
    "print(df_train['device.operatingSystem'].value_counts()[:5])\n",
    "\n",
    "fig, ax = plt.subplots(figsize=(14,14))\n",
    "\n",
    "sns.countplot(df_train[\"device.operatingSystem\"], palette=\"hls\")\n",
    "total = len(df_train['device.operatingSystem'])\n",
    "for p in ax.patches:\n",
    "        percentage = '{:.1f}%'.format(100 * p.get_height()/total)\n",
    "        x = p.get_x() + 0.1\n",
    "        y = p.get_y() + p.get_height() + 0.5\n",
    "        ax.annotate(percentage, (x, y))\n",
    "plt.title(\"Operational System used Count\", fontsize=20)\n",
    "plt.xlabel(\"Operational System Name\", fontsize=16)\n",
    "plt.ylabel(\"OS Count\", fontsize=16)\n",
    "plt.xticks(rotation=45)\n",
    "\n",
    "plt.show()"
   ]
  },
  {
   "cell_type": "code",
   "execution_count": null,
   "metadata": {
    "_uuid": "13d40e390372c97905e30d0ca10ebad16719db6e",
    "colab": {
     "base_uri": "https://localhost:8080/",
     "height": 502
    },
    "executionInfo": {
     "elapsed": 71590,
     "status": "ok",
     "timestamp": 1611679160222,
     "user": {
      "displayName": "Thomas Dulin",
      "photoUrl": "",
      "userId": "14648366463767860081"
     },
     "user_tz": -60
    },
    "id": "uSxf5WQHh2e_",
    "outputId": "46f8a9fb-05bd-4223-8307-b260222809f5"
   },
   "outputs": [],
   "source": [
    "#browser by operating system\n",
    "crosstab_eda = pd.crosstab(index=df_train[df_train['device.operatingSystem']\\\n",
    "                                          .isin(df_train['device.operatingSystem']\\\n",
    "                                                .value_counts()[:6].index.values)]['device.operatingSystem'], \n",
    "                    \n",
    "                           columns=df_train[df_train['device.browser'].isin(df_train['device.browser']\\\n",
    "                                                                            .value_counts()[:5].index.values)]['device.browser'])\n",
    "crosstab_eda.plot(kind=\"bar\",\n",
    "                 figsize=(14,7),\n",
    "                 stacked=True)\n",
    "plt.title(\"Most frequent OS's by Browsers of users\", fontsize=22)\n",
    "plt.xlabel(\"Operational System Name\", fontsize=19)\n",
    "plt.ylabel(\"Count OS\", fontsize=19)\n",
    "plt.xticks(rotation=0)\n",
    "\n",
    "plt.show()"
   ]
  },
  {
   "cell_type": "code",
   "execution_count": null,
   "metadata": {
    "_uuid": "d34317b1ba6d6e9f1f66c58a23c487a65e32ab11",
    "colab": {
     "base_uri": "https://localhost:8080/",
     "height": 361
    },
    "executionInfo": {
     "elapsed": 72585,
     "status": "ok",
     "timestamp": 1611679161223,
     "user": {
      "displayName": "Thomas Dulin",
      "photoUrl": "",
      "userId": "14648366463767860081"
     },
     "user_tz": -60
    },
    "id": "GPdLnHpTh2fA",
    "outputId": "f3bc6761-7b7d-43b8-eaaf-8b1c0778e779"
   },
   "outputs": [],
   "source": [
    "#transaction revenue by OS\n",
    "(sns.FacetGrid(df_train[(df_train['device.operatingSystem']\\\n",
    "                        .isin(df_train['device.operatingSystem']\\\n",
    "                              .value_counts()[:6].index.values)) & df_train['totals.transactionRevenue'] > 0],\n",
    "               hue='device.operatingSystem', height=5, aspect=2)\n",
    "  .map(sns.kdeplot, 'totals.transactionRevenue', shade=True)\n",
    " .add_legend()\n",
    ")\n",
    "plt.show()"
   ]
  },
  {
   "cell_type": "code",
   "execution_count": null,
   "metadata": {
    "_uuid": "c27df69fb49cb019460d6d611e28970922dbfcd0",
    "colab": {
     "base_uri": "https://localhost:8080/",
     "height": 538
    },
    "executionInfo": {
     "elapsed": 1335,
     "status": "ok",
     "timestamp": 1611681587699,
     "user": {
      "displayName": "Thomas Dulin",
      "photoUrl": "",
      "userId": "14648366463767860081"
     },
     "user_tz": -60
    },
    "id": "P7t4abFAh2fA",
    "outputId": "0e47f1da-5c6e-4c54-ceee-c69ce42f016a",
    "tags": []
   },
   "outputs": [],
   "source": [
    "#device category\n",
    "print(\"Percentage of Devices: \")\n",
    "print(round(df_train['device.deviceCategory'].value_counts() / len(df_train['device.deviceCategory']) * 100, 2))\n",
    "\n",
    "fig , ax = plt.subplots(1,2,figsize=(14,5))\n",
    "\n",
    "sns.countplot(df_train[\"device.deviceCategory\"], palette=\"hls\", ax = ax[0])\n",
    "total = len(df_train['device.deviceCategory'])\n",
    "for p in ax[0].patches:\n",
    "        percentage = '{:.1f}%'.format(100 * p.get_height()/total)\n",
    "        x = p.get_x() + 0.1\n",
    "        y = p.get_y() + p.get_height() + 0.5\n",
    "        ax[0].annotate(percentage, (x, y))\n",
    "plt.title(\"Device Category Count\", fontsize=20)\n",
    "plt.xlabel(\"Device Category\", fontsize=18)\n",
    "plt.ylabel(\"Count\", fontsize=16)\n",
    "plt.xticks(fontsize=18)\n",
    "\n",
    "sns.boxenplot(x=\"device.deviceCategory\", y = 'totals.transactionRevenue', \n",
    "              data=df_train[df_train['totals.transactionRevenue'] > 0], palette=\"hls\", ax=ax[1])\n",
    "plt.title(\"Device Category Revenue Distribuition\", fontsize=20)\n",
    "plt.xlabel(\"Device Category\", fontsize=18)\n",
    "plt.ylabel(\"Revenue(Log)\", fontsize=16)\n",
    "plt.xticks(fontsize=18)\n",
    "\n",
    "plt.subplots_adjust(hspace = 0.9, wspace = 0.5)\n",
    "\n",
    "plt.show()"
   ]
  },
  {
   "cell_type": "code",
   "execution_count": null,
   "metadata": {
    "_uuid": "e6fe29c132df19a74cc391c13d74b778a70c8d6f",
    "colab": {
     "base_uri": "https://localhost:8080/",
     "height": 361
    },
    "executionInfo": {
     "elapsed": 73352,
     "status": "ok",
     "timestamp": 1611679162001,
     "user": {
      "displayName": "Thomas Dulin",
      "photoUrl": "",
      "userId": "14648366463767860081"
     },
     "user_tz": -60
    },
    "id": "HH_8n5Ulh2fB",
    "outputId": "5ee5e753-25e8-4459-e01c-6cab00b0d12d"
   },
   "outputs": [],
   "source": [
    "#device comparison\n",
    "(sns.FacetGrid(df_train[df_train['totals.transactionRevenue'] > 0],\n",
    "               hue='device.deviceCategory', height=5, aspect=2)\n",
    "  .map(sns.kdeplot, 'totals.transactionRevenue', shade=True)\n",
    " .add_legend()\n",
    ")\n",
    "plt.show()"
   ]
  },
  {
   "cell_type": "code",
   "execution_count": null,
   "metadata": {
    "_uuid": "815651b3895bf595d523d82c3b0d619edcbdf295",
    "colab": {
     "base_uri": "https://localhost:8080/",
     "height": 502
    },
    "executionInfo": {
     "elapsed": 74059,
     "status": "ok",
     "timestamp": 1611679162714,
     "user": {
      "displayName": "Thomas Dulin",
      "photoUrl": "",
      "userId": "14648366463767860081"
     },
     "user_tz": -60
    },
    "id": "Yh4-GFDDh2fC",
    "outputId": "e0cbf0d5-6d70-42f0-fe62-6e154a0f2676"
   },
   "outputs": [],
   "source": [
    "# device and browsers\n",
    "crosstab_eda = pd.crosstab(index=df_train['device.deviceCategory'],\n",
    "                           columns=df_train[df_train['device.operatingSystem']\\\n",
    "                                            .isin(df_train['device.operatingSystem']\\\n",
    "                                                  .value_counts()[:6].index.values)]['device.operatingSystem'])\n",
    "\n",
    "crosstab_eda.plot(kind=\"bar\",\n",
    "                 figsize=(14,7),\n",
    "                 stacked=True)\n",
    "plt.title(\"Most frequent OS's by Device Categorys of users\", fontsize=22) \n",
    "plt.xlabel(\"Device Name\", fontsize=19)      \n",
    "plt.ylabel(\"Count Device x OS\", fontsize=19)                \n",
    "plt.xticks(rotation=0)                  \n",
    "\n",
    "\n",
    "plt.show()"
   ]
  },
  {
   "cell_type": "code",
   "execution_count": null,
   "metadata": {
    "_uuid": "2affc90a0388834255a5bb4114ee6ea773cff3d1",
    "colab": {
     "base_uri": "https://localhost:8080/",
     "height": 829
    },
    "executionInfo": {
     "elapsed": 74054,
     "status": "ok",
     "timestamp": 1611679162714,
     "user": {
      "displayName": "Thomas Dulin",
      "photoUrl": "",
      "userId": "14648366463767860081"
     },
     "user_tz": -60
    },
    "id": "uOaaieBLh2fC",
    "outputId": "1fb11ab5-48b9-4172-cddf-b696f2b4709b",
    "tags": []
   },
   "outputs": [],
   "source": [
    "#by subcontinent\n",
    "print(\"Description of SubContinent count: \")\n",
    "print(df_train['geoNetwork.subContinent'].value_counts()[:8])\n",
    "\n",
    "fig, ax = plt.subplots(figsize=(16,7))\n",
    "\n",
    "sns.countplot(df_train[df_train['geoNetwork.subContinent']\\\n",
    "                       .isin(df_train['geoNetwork.subContinent']\\\n",
    "                             .value_counts()[:15].index.values)]['geoNetwork.subContinent'], palette=\"hls\") \n",
    "total = len(df_train['geoNetwork.subContinent'])\n",
    "for p in ax.patches:\n",
    "        percentage = '{:.1f}%'.format(100 * p.get_height()/total)\n",
    "        x = p.get_x() + 0.1\n",
    "        y = p.get_y() + p.get_height() + 0.5\n",
    "        ax.annotate(percentage, (x, y))\n",
    "plt.title(\"TOP 15 most frequent SubContinents\", fontsize=20)\n",
    "plt.xlabel(\"subContinent Names\", fontsize=18)\n",
    "plt.ylabel(\"SubContinent Count\", fontsize=18)\n",
    "plt.xticks(rotation=45)\n",
    "\n",
    "plt.show()"
   ]
  },
  {
   "cell_type": "code",
   "execution_count": null,
   "metadata": {
    "_uuid": "27b2fd721d60cd80f9a5e3dc26e40fb91a8463a0",
    "colab": {
     "base_uri": "https://localhost:8080/",
     "height": 586
    },
    "executionInfo": {
     "elapsed": 75044,
     "status": "ok",
     "timestamp": 1611679163711,
     "user": {
      "displayName": "Thomas Dulin",
      "photoUrl": "",
      "userId": "14648366463767860081"
     },
     "user_tz": -60
    },
    "id": "rFozxfPuh2fD",
    "outputId": "2e998631-0036-4099-cca9-0e126eaa0acd"
   },
   "outputs": [],
   "source": [
    "#subcontinent by browser\n",
    "crosstab_eda = pd.crosstab(index=df_train[df_train['geoNetwork.subContinent']\\\n",
    "                                          .isin(df_train['geoNetwork.subContinent']\\\n",
    "                                                .value_counts()[:10].index.values)]['geoNetwork.subContinent'], \n",
    "                           \n",
    "                           columns=df_train[df_train['device.browser'].isin(df_train['device.browser']\\\n",
    "                                                                            .value_counts()[:5].index.values)]['device.browser'])\n",
    "\n",
    "crosstab_eda.plot(kind=\"bar\", \n",
    "                 figsize=(16,7), \n",
    "                 stacked=True) \n",
    "plt.title(\"TOP 10 Most frequent Subcontinents by Browsers used\", fontsize=22) \n",
    "plt.xlabel(\"Subcontinent Name\", fontsize=19) \n",
    "plt.ylabel(\"Count Subcontinent\", fontsize=19)\n",
    "plt.xticks(rotation=45)\n",
    "plt.legend(loc=1, prop={'size': 12})\n",
    "\n",
    "plt.show()"
   ]
  },
  {
   "cell_type": "code",
   "execution_count": null,
   "metadata": {},
   "outputs": [],
   "source": []
  }
 ],
 "metadata": {
  "colab": {
   "collapsed_sections": [
    "1WuuiuHsh2e7"
   ],
   "name": "01-Preprocessing_linear_model_project_part1_solutions.ipynb",
   "provenance": []
  },
  "kernelspec": {
   "display_name": "Python 3",
   "language": "python",
   "name": "python3"
  },
  "language_info": {
   "codemirror_mode": {
    "name": "ipython",
    "version": 3
   },
   "file_extension": ".py",
   "mimetype": "text/x-python",
   "name": "python",
   "nbconvert_exporter": "python",
   "pygments_lexer": "ipython3",
   "version": "3.8.5"
  }
 },
 "nbformat": 4,
 "nbformat_minor": 1
}
